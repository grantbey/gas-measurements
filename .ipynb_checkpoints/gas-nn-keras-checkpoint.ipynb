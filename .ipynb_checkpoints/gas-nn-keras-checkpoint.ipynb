{
 "cells": [
  {
   "cell_type": "markdown",
   "metadata": {},
   "source": [
    "# Gas measurements NN"
   ]
  },
  {
   "cell_type": "markdown",
   "metadata": {},
   "source": [
    "## Load modules\n",
    "\n",
    "Note: y/n for resetting the variables. This helps to clear the memory and start from scratch."
   ]
  },
  {
   "cell_type": "code",
   "execution_count": 3,
   "metadata": {
    "collapsed": false
   },
   "outputs": [
    {
     "name": "stdout",
     "output_type": "stream",
     "text": [
      "Once deleted, variables cannot be recovered. Proceed (y/[n])? y\n"
     ]
    }
   ],
   "source": [
    "%reset\n",
    "import pickle\n",
    "\n",
    "import pandas as pd\n",
    "import numpy as np\n",
    "\n",
    "import keras\n",
    "from keras.callbacks import EarlyStopping, ReduceLROnPlateau,Callback\n",
    "from keras.models import Sequential\n",
    "from keras.layers import Dense, Activation\n",
    "from keras.regularizers import l2,l1\n",
    "from keras.wrappers.scikit_learn import KerasClassifier\n",
    "from keras.layers.advanced_activations import LeakyReLU\n",
    "\n",
    "from pushbullet import Pushbullet\n",
    "import datetime\n",
    "\n",
    "import matplotlib.pyplot as plt\n",
    "\n",
    "from sklearn.model_selection import GridSearchCV"
   ]
  },
  {
   "cell_type": "markdown",
   "metadata": {},
   "source": [
    "## Load the pickled data"
   ]
  },
  {
   "cell_type": "code",
   "execution_count": 4,
   "metadata": {
    "collapsed": false
   },
   "outputs": [],
   "source": [
    "with open('./data/pickled/xtrain.pickle', 'rb') as f:\n",
    "    xtrain = pickle.load(f)\n",
    "\n",
    "with open('./data/pickled/ytrain.pickle', 'rb') as f:\n",
    "    ytrain = pickle.load(f)\n",
    "\n",
    "with open('./data/pickled/xtest.pickle', 'rb') as f:\n",
    "    xtest = pickle.load(f)\n",
    "\n",
    "with open('./data/pickled/ytest.pickle', 'rb') as f:\n",
    "    ytest = pickle.load(f)\n",
    "    \n",
    "with open('./data/pickled/xval.pickle', 'rb') as f:\n",
    "    xval = pickle.load(f)\n",
    "\n",
    "with open('./data/pickled/yval.pickle', 'rb') as f:\n",
    "    yval = pickle.load(f)"
   ]
  },
  {
   "cell_type": "markdown",
   "metadata": {},
   "source": [
    "## Various helper functions"
   ]
  },
  {
   "cell_type": "code",
   "execution_count": 5,
   "metadata": {
    "collapsed": true
   },
   "outputs": [],
   "source": [
    "def plot_baseline():\n",
    "    fig = plt.figure(figsize=(12, 12))\n",
    "\n",
    "    ax = fig.add_subplot(221)\n",
    "    ax.plot(baseline.history['loss'], \"-\",color='blue',label=\"Training final loss: \"+str(round(baseline.history['loss'][-1],4)))\n",
    "    ax.plot(baseline.history['val_loss'], \"-\",color='orange',label=\"testing final loss: \"+str(round(baseline.history['val_loss'][-1],4)))\n",
    "    #ax.set_xlim([0, epochs])\n",
    "    ax.set_xlabel('Epoch')\n",
    "    ax.set_ylabel('Cost')\n",
    "    plt.legend(loc='upper right')\n",
    "    ax.set_title('Baseline model\\nCost vs time (epochs)')\n",
    "    \n",
    "    pred = model.predict(xtest)\n",
    "    ax = fig.add_subplot(222)\n",
    "    ax.plot(ytest[:,0],pred[:,0],'o')\n",
    "    ax.plot(ytest[:,0],ytest[:,0],'-o',color='orange')\n",
    "    ax.set_xlabel('Real co (normalized ppm)')\n",
    "    ax.set_ylabel('Predicted co (normalized ppm)')\n",
    "    #plt.legend(loc='lower right')\n",
    "    ax.set_title('real vs predicted CO')\n",
    "    \n",
    "    ax = fig.add_subplot(223)\n",
    "    ax.plot(ytest[:,1],pred[:,1],'o')\n",
    "    ax.plot(ytest[:,1],ytest[:,1],'-o',color='orange')\n",
    "    ax.set_xlabel('Real ethylene (normalized ppm)')\n",
    "    ax.set_ylabel('Predicted ethylene (normalized ppm)')\n",
    "    #plt.legend(loc='lower right')\n",
    "    ax.set_title('real vs predicted Ethylene')\n",
    "    \n",
    "    ax = fig.add_subplot(224)\n",
    "    ax.plot(pred[:,0],pred[:,1],'o', color='orange',label='pred')\n",
    "    ax.plot(ytest[:,0],ytest[:,1],'o',color='blue',label='true')\n",
    "    ax.set_xlabel('Ethylene (normalized ppm)')\n",
    "    ax.set_ylabel('CO (normalized ppm)')\n",
    "    plt.legend(loc='upper right')\n",
    "    ax.set_title('CO vs Ethylene\\nReal and pred values')\n",
    "    \n",
    "    \n",
    "    plt.show()"
   ]
  },
  {
   "cell_type": "code",
   "execution_count": 6,
   "metadata": {
    "collapsed": false
   },
   "outputs": [],
   "source": [
    "def plot_classifier():\n",
    "    fig = plt.figure(figsize=(12, 6))\n",
    "\n",
    "    ax = fig.add_subplot(121)\n",
    "    ax.plot(baseline.history['loss'], \"-\",color='blue',label=\"Training final loss: \"+str(round(baseline.history['loss'][-1],4)))\n",
    "    ax.plot(baseline.history['val_loss'], \"-\",color='orange',label=\"testing final loss: \"+str(round(baseline.history['val_loss'][-1],4)))\n",
    "    #ax.set_xlim([0, epochs])\n",
    "    ax.set_xlabel('Epoch')\n",
    "    ax.set_ylabel('Cost')\n",
    "    plt.legend(loc='best')\n",
    "    ax.set_title('Cost vs time (epochs)')\n",
    "    \n",
    "    ax = fig.add_subplot(122)\n",
    "    ax.plot(baseline.history['acc'], \"-\",color='blue',label=\"Training final acc: \"+str(round(baseline.history['acc'][-1],4)))\n",
    "    ax.plot(baseline.history['val_acc'], \"-\",color='orange',label=\"testing final acc: \"+str(round(baseline.history['val_acc'][-1],4)))\n",
    "    #ax.set_xlim([0, epochs])\n",
    "    ax.set_xlabel('Epoch')\n",
    "    ax.set_ylabel('Accuracy')\n",
    "    plt.legend(loc='best')\n",
    "    ax.set_title('Accuracy vs time (epochs)')    \n",
    "    \n",
    "    plt.show()"
   ]
  },
  {
   "cell_type": "markdown",
   "metadata": {},
   "source": [
    "#### Pushbullet API call\n",
    "\n",
    "This awesome little library found [here](https://github.com/randomchars/pushbullet.py) sends a pushbullet notification upon completion. Since these gridsearches can run a while, notifications are key.\n",
    "\n",
    "I stored my api key in a file in my root directory and have python read this into a variable so that I can share the code without sharing my api key."
   ]
  },
  {
   "cell_type": "code",
   "execution_count": 18,
   "metadata": {
    "collapsed": true
   },
   "outputs": [],
   "source": [
    "with open('../pushbullet.api','r') as f:\n",
    "    api = f.readline().strip()   \n",
    "pb = Pushbullet(api)\n",
    "phone = pb.devices[0]\n",
    "\n",
    "def time_to_finish(start,end):\n",
    "    ttf = end - start\n",
    "    days = ttf.days\n",
    "    hours = (ttf.seconds//3600)%3600\n",
    "    minutes = ((ttf.seconds-hours*60)//60)%60\n",
    "    seconds = (ttf.seconds-hours*60-minutes*60)\n",
    "    \n",
    "    return {'days':days,'hours':hours,'minutes':minutes,'seconds':seconds}\n",
    "    "
   ]
  },
  {
   "cell_type": "markdown",
   "metadata": {},
   "source": [
    "## Classifiers"
   ]
  },
  {
   "cell_type": "markdown",
   "metadata": {},
   "source": [
    "#### Regular model, uses SGD and sigmoid activations"
   ]
  },
  {
   "cell_type": "code",
   "execution_count": null,
   "metadata": {
    "collapsed": false
   },
   "outputs": [],
   "source": [
    "m = xtest.shape[1]\n",
    "Lambda = 0.000001\n",
    "rate = 10\n",
    "\n",
    "# Initialize model\n",
    "model = Sequential()\n",
    "\n",
    "# Define advanced activations\n",
    "l_relu = LeakyReLU(alpha=0.3)\n",
    "\n",
    "# Assemble model\n",
    "model.add(Dense(30, input_dim=m, init='lecun_uniform', activation='sigmoid',W_regularizer=l2(Lambda)))\n",
    "\n",
    "model.add(Dense(73, init='lecun_uniform', activation='sigmoid',W_regularizer=l2(Lambda)))\n",
    "\n",
    "# Define optimizers\n",
    "sgd = keras.optimizers.SGD(lr=rate, momentum=0, decay=0)\n",
    "# rmsprop = keras.optimizers.RMSprop(lr=10, rho=0.9, epsilon=1e-08, decay=0.0)\n",
    "\n",
    "# Compile model\n",
    "model.compile(loss='categorical_crossentropy', optimizer=sgd, metrics=['accuracy'])\n",
    "\n",
    "# Fit model\n",
    "baseline = model.fit(xtrain,ytrain,validation_split=0.1,nb_epoch=200,batch_size=10000,verbose=0)\n",
    "\n",
    "# Plot results\n",
    "plot_classifier()"
   ]
  },
  {
   "cell_type": "markdown",
   "metadata": {},
   "source": [
    "#### Deeper model, uses leaky relu's, softmax in the final layer, adam optimizer"
   ]
  },
  {
   "cell_type": "code",
   "execution_count": 19,
   "metadata": {
    "collapsed": false
   },
   "outputs": [
    {
     "data": {
      "image/png": "[encoded data removed]",
      "text/plain": [
       "<matplotlib.figure.Figure at 0x2b81cf600518>"
      ]
     },
     "metadata": {},
     "output_type": "display_data"
    }
   ],
   "source": [
    "m = xtest.shape[1]\n",
    "Lambda = 0.0001\n",
    "rate = 10\n",
    "\n",
    "# Initialize model\n",
    "model = Sequential()\n",
    "\n",
    "# Define advanced activations\n",
    "l_relu = LeakyReLU(alpha=0.3)\n",
    "\n",
    "# Assemble model\n",
    "model.add(Dense(200, input_dim=m, init='lecun_uniform', activation=l_relu,W_regularizer=l2(Lambda)))\n",
    "model.add(Dense(200, init='lecun_uniform', activation=l_relu,W_regularizer=l2(Lambda)))\n",
    "model.add(Dense(200, init='lecun_uniform', activation=l_relu,W_regularizer=l2(Lambda)))\n",
    "\n",
    "model.add(Dense(73, init='lecun_uniform', activation='softmax',W_regularizer=l2(Lambda)))\n",
    "\n",
    "# Define optimizers\n",
    "# sgd = keras.optimizers.SGD(lr=rate, momentum=0, decay=0)\n",
    "# rmsprop = keras.optimizers.RMSprop(lr=10, rho=0.9, epsilon=1e-08, decay=0.0)\n",
    "adam = keras.optimizers.Adam(lr=rate, beta_1=0.9, beta_2=0.999, epsilon=1e-08, decay=0.0)\n",
    "\n",
    "# Compile model\n",
    "model.compile(loss='categorical_crossentropy', optimizer='adam', metrics=['accuracy'])\n",
    "\n",
    "# Fit model\n",
    "start = datetime.datetime.now()\n",
    "baseline = model.fit(xtest,ytest,validation_split=0.1,nb_epoch=100,batch_size=100,verbose=0)\n",
    "end = datetime.datetime.now()\n",
    "ttf = time_to_finish(start,end)\n",
    "\n",
    "# Alert me that gridsearch is done\n",
    "push = phone.push_note(\"Training is done!\", 'The process took %s days, %s hours, %s minutes and %s seconds' %(ttf['days'], ttf['hours'],ttf['minutes'],ttf['seconds']))# Plot results\n",
    "plot_classifier()"
   ]
  },
  {
   "cell_type": "markdown",
   "metadata": {},
   "source": [
    "## Gridsearch\n",
    "\n",
    "Aim to test a variet of parameters\n",
    "Leaky ReLu's, deeper network, etc."
   ]
  },
  {
   "cell_type": "markdown",
   "metadata": {},
   "source": [
    "#### First, define the neural network model that will be called by KerasClassifier()\n",
    "Any arguments to this function are things that will be gridsearched, and they should be given default values.\n",
    "\n",
    "The model must be compiled and then the function should return the compiled model."
   ]
  },
  {
   "cell_type": "code",
   "execution_count": 21,
   "metadata": {
    "collapsed": false
   },
   "outputs": [],
   "source": [
    "def nn(rate=10, Lambda=0.0001,alphas=0.3,last_layer='sigmoid'):\n",
    "    \n",
    "    m = xtest.shape[1]\n",
    "    \n",
    "    # Initialize the model\n",
    "    model = Sequential()\n",
    "\n",
    "    # Define advanced activations\n",
    "    l_relu = LeakyReLU(alpha=alphas)\n",
    "    \n",
    "    # Assemble the model architecture\n",
    "    model.add(Dense(200, input_dim=m, init='lecun_uniform', activation=l_relu,W_regularizer=l2(Lambda)))\n",
    "    model.add(Dense(200, init='lecun_uniform', activation=l_relu,W_regularizer=l2(Lambda)))\n",
    "    model.add(Dense(200, init='lecun_uniform', activation=l_relu,W_regularizer=l2(Lambda)))\n",
    "\n",
    "    model.add(Dense(73, init='lecun_uniform', activation=last_layer,W_regularizer=l2(Lambda)))\n",
    "\n",
    "    # Define optimizers\n",
    "    # sgd = keras.optimizers.SGD(lr=rate, momentum=0, decay=0)\n",
    "    # rmsprop = keras.optimizers.RMSprop(lr=10, rho=0.9, epsilon=1e-08, decay=0.0)\n",
    "    adam = keras.optimizers.Adam(lr=rate, beta_1=0.9, beta_2=0.999, epsilon=1e-08, decay=0.0)\n",
    "\n",
    "    # Compile model\n",
    "    model.compile(loss='categorical_crossentropy', optimizer=adam, metrics=['accuracy'])\n",
    "    \n",
    "    return model"
   ]
  },
  {
   "cell_type": "markdown",
   "metadata": {},
   "source": [
    "#### Call the gridsearch function\n",
    "Here we initialize the KerasClassifier object, define the parameter grid, and call the grid search function.\n",
    "\n",
    "Note: any arguments in `KerasClassifier()` (other than `build_fn`) will be passed to the `fit()` method of `GridsearchCV`."
   ]
  },
  {
   "cell_type": "code",
   "execution_count": null,
   "metadata": {
    "collapsed": false
   },
   "outputs": [],
   "source": [
    "# Initialize the KerasClassifier()\n",
    "model = KerasClassifier(build_fn=nn, verbose=0,nb_epoch=100)\n",
    "\n",
    "#Make arrays of hyperparameters to search over\n",
    "rates = np.array([1e-05,1e-04,1e-03,1e-02,1e-01,0])\n",
    "lambdas = np.array([1e-07,1e-06,1e-05,1e-04,1e-03])\n",
    "alphas = np.array([1e-03,1e-02,1e-01,0,1])\n",
    "batches = np.array([10, 100, 1000, 10000])\n",
    "last_layers = ['sigmoid','softmax']\n",
    "\n",
    "# Generate parameter grid\n",
    "param_grid = dict(rate=rates, Lambda=lambdas, alphas=alphas, batch_size=batches,last_layer=last_layers)\n",
    "\n",
    "# Initialize the gridsearch object\n",
    "grid = GridSearchCV(estimator=model, param_grid=param_grid, verbose=1)\n",
    "\n",
    "# Call the fit() method on the gridsearch object, passing in the data to be fit\n",
    "# Also record the start and end time to notify about running time\n",
    "start = datetime.datetime.now()\n",
    "grid_result = grid.fit(xtest, ytest)\n",
    "end = datetime.datetime.now()\n",
    "ttf = time_to_finish(start,end)\n",
    "\n",
    "# Alert me that gridsearch is done\n",
    "push = phone.push_note(\"Training is done!\", 'The process took %s days, %s hours, %s minutes and %s seconds' \n",
    "                       %(ttf['days'], ttf['hours'],ttf['minutes'],ttf['seconds']))"
   ]
  },
  {
   "cell_type": "code",
   "execution_count": null,
   "metadata": {
    "collapsed": false
   },
   "outputs": [],
   "source": [
    "grid.best_params_"
   ]
  },
  {
   "cell_type": "markdown",
   "metadata": {},
   "source": [
    "#### Old plotting functions\n",
    "\n",
    "Let's just ignore these for right now..."
   ]
  },
  {
   "cell_type": "code",
   "execution_count": 119,
   "metadata": {
    "collapsed": true
   },
   "outputs": [],
   "source": [
    "def format_data():\n",
    "    data = pd.DataFrame.from_dict(history.history)\n",
    "    data['epoch'] = data.index\n",
    "    #data.columns = ['train_acc','train_loss','rate','test_acc','test_loss','epoch']\n",
    "    data.columns = ['train_acc','train_loss','test_acc','test_loss','epoch']\n",
    "    #data.columns = ['train_acc','train_loss','epoch']\n",
    "    #data = pd.melt(data,id_vars=['epoch','rate'],var_name='metric')\n",
    "    data = pd.melt(data,id_vars=['epoch'],var_name='metric')\n",
    "    data = pd.concat([data,data['metric'].str.split('_',expand=True)],axis=1).drop('metric',axis=1)\n",
    "    #data.columns = ['epoch','rate','value','dataset','metric']\n",
    "    data.columns = ['epoch','value','dataset','metric']\n",
    "    return data"
   ]
  },
  {
   "cell_type": "code",
   "execution_count": 77,
   "metadata": {
    "collapsed": false
   },
   "outputs": [],
   "source": [
    "# Altair plotting example\n",
    "from altair import *\n",
    "\n",
    "def plot_altair():\n",
    "\n",
    "    return Chart(format_data()).mark_line().encode(\n",
    "        x='epoch',\n",
    "        y='value:Q',\n",
    "        color='dataset',\n",
    "        column=Column('metric',\n",
    "                      title='Loss / Accuracy over time')\n",
    "    ).configure_cell(height=300, width=300)"
   ]
  },
  {
   "cell_type": "code",
   "execution_count": 230,
   "metadata": {
    "collapsed": true
   },
   "outputs": [],
   "source": [
    "# Matplotlib plotting\n",
    "def plot_matplotlib():# Visualize the cost and accuracy\n",
    "    fig = plt.figure(figsize=(12, 12))\n",
    "\n",
    "    ax = fig.add_subplot(222)\n",
    "    ax.plot(history.history['loss'], \"-\",color='blue',label=\"Training final loss: \"+str(round(history.history['loss'][-1],4)))\n",
    "    ax.plot(history.history['val_loss'], \"-\",color='orange',label=\"testing final loss: \"+str(round(history.history['val_loss'][-1],4)))\n",
    "    #ax.set_xlim([0, epochs])\n",
    "    ax.set_xlabel('Epoch')\n",
    "    ax.set_ylabel('Loss')\n",
    "    plt.legend(loc='upper right')\n",
    "    ax.set_title('Loss over epochs')\n",
    "\n",
    "    plt.show()"
   ]
  },
  {
   "cell_type": "code",
   "execution_count": 262,
   "metadata": {
    "collapsed": true
   },
   "outputs": [],
   "source": [
    "# Matplotlib plotting\n",
    "# with learning rate\n",
    "# without accuracy\n",
    "def plot_matplotlib():# Visualize the cost and accuracy\n",
    "    fig,ax1 = plt.subplots(figsize=(6, 6))\n",
    "\n",
    "    ax1.plot(history.history['loss'], \"-\",color='blue',label=\"Training final loss: \"+str(round(history.history['loss'][-1],4)))\n",
    "    ax1.plot(history.history['val_loss'], \"-\",color='orange',label=\"testing final loss: \"+str(round(history.history['val_loss'][-1],4)))\n",
    "    #ax.set_xlim([0, epochs])\n",
    "    ax1.set_xlabel('Epoch')\n",
    "    ax1.set_ylabel('Loss')\n",
    "    plt.legend(loc='upper right')\n",
    "    ax1.set_title('Loss over epochs')\n",
    "    \n",
    "    ax2 = ax1.twinx()\n",
    "    ax2.plot(history.history['lr'],color='green')\n",
    "    ax2.set_ylabel('learning rate',color='green')\n",
    "\n",
    "    plt.show()"
   ]
  },
  {
   "cell_type": "code",
   "execution_count": 408,
   "metadata": {
    "collapsed": false
   },
   "outputs": [],
   "source": [
    "# Matplotlib plotting\n",
    "# with learning rate\n",
    "# without accuracy\n",
    "def plot_scatter():# Visualize the cost and accuracy\n",
    "    \n",
    "    pred = model.predict(xtest)\n",
    "    fig,ax1 = plt.subplots(figsize=(6, 6))\n",
    "\n",
    "    ax1.plot(ytest[:,0],ytest[:,1], \"o\",color='blue',label='train real')\n",
    "    ax1.plot(pred[:,0],pred[:,1], \"o\",color='orange',label='train predict')\n",
    "    #ax1.plot(history.history['val_loss'], \"-\",color='orange',label=\"testing final loss: \"+str(round(history.history['val_loss'][-1],4)))\n",
    "    #ax.set_xlim([0, epochs])\n",
    "    ax1.set_xlabel('0')\n",
    "    ax1.set_ylabel('1')\n",
    "    plt.legend(loc='lower right')\n",
    "    ax1.set_title('real vs predicted')\n",
    "    \n",
    "    #ax2 = ax1.twinx()\n",
    "    #ax2.plot(history.history['lr'],color='green')\n",
    "    #ax2.set_ylabel('learning rate',color='green')\n",
    "\n",
    "    plt.show()"
   ]
  }
 ],
 "metadata": {
  "kernelspec": {
   "display_name": "Python 3",
   "language": "python",
   "name": "python3"
  },
  "language_info": {
   "codemirror_mode": {
    "name": "ipython",
    "version": 3
   },
   "file_extension": ".py",
   "mimetype": "text/x-python",
   "name": "python",
   "nbconvert_exporter": "python",
   "pygments_lexer": "ipython3",
   "version": "3.5.2"
  }
 },
 "nbformat": 4,
 "nbformat_minor": 0
}
