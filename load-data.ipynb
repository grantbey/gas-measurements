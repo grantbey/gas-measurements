{
 "cells": [
  {
   "cell_type": "markdown",
   "metadata": {},
   "source": [
    " In particular Ethylene concentration ranges from 0-20 ppm; 0-600 ppm for CO; and 0-300 ppm for Methane. \n",
    " \n",
    " https://archive.ics.uci.edu/ml/datasets/Gas+sensor+array+under+dynamic+gas+mixtures#\n",
    " \n",
    " Note: in order to use this script, you will need to download and extract the data.zip at the above location. I have not pushed it to the github repository."
   ]
  },
  {
   "cell_type": "code",
   "execution_count": 74,
   "metadata": {
    "collapsed": false
   },
   "outputs": [
    {
     "name": "stdout",
     "output_type": "stream",
     "text": [
      "Once deleted, variables cannot be recovered. Proceed (y/[n])? y\n"
     ]
    }
   ],
   "source": [
    "%reset\n",
    "import pandas as pd\n",
    "import numpy as np\n",
    "import pickle\n",
    "from sklearn.model_selection import train_test_split\n",
    "from sklearn.preprocessing import StandardScaler\n",
    "import matplotlib.pyplot as plt\n",
    "from sklearn.preprocessing import OneHotEncoder, PolynomialFeatures"
   ]
  },
  {
   "cell_type": "code",
   "execution_count": 75,
   "metadata": {
    "collapsed": false
   },
   "outputs": [],
   "source": [
    "# Load the data from the txt files\n",
    "# Note: the data should be unzipped\n",
    "\n",
    "with open('./data/ethylene_CO.txt','rb') as f:\n",
    "    co = pd.read_table(f,delim_whitespace=True,header=None,skiprows=1,\n",
    "                               names=['time','co','ethylene','TGS2602', 'TGS2602', \n",
    "                                      'TGS2600', 'TGS2600', 'TGS2610', 'TGS2610', 'TGS2620', \n",
    "                                      'TGS2620', 'TGS2602', 'TGS2602', 'TGS2600', 'TGS2600', \n",
    "                                      'TGS2610', 'TGS2610', 'TGS2620', 'TGS2620'])\n",
    "    co = co.drop('time', 1)"
   ]
  },
  {
   "cell_type": "code",
   "execution_count": null,
   "metadata": {
    "collapsed": true
   },
   "outputs": [],
   "source": [
    "# Load the data from the txt files\n",
    "# Note: the data should be unzipped\n",
    "\n",
    "with open('./data/ethylene_methane.txt','rb') as f:\n",
    "    methane = pd.read_table(f,delim_whitespace=True,header=None,skiprows=1,\n",
    "                               names=['time','methane','ethylene','TGS2602', 'TGS2602', \n",
    "                                      'TGS2600', 'TGS2600', 'TGS2610', 'TGS2610', 'TGS2620', \n",
    "                                      'TGS2620', 'TGS2602', 'TGS2602', 'TGS2600', 'TGS2600', \n",
    "                                      'TGS2610', 'TGS2610', 'TGS2620', 'TGS2620'])\n",
    "    methane = methane.drop('time', 1)"
   ]
  },
  {
   "cell_type": "markdown",
   "metadata": {},
   "source": [
    "For now, we'll just use the CO dataset"
   ]
  },
  {
   "cell_type": "code",
   "execution_count": 76,
   "metadata": {
    "collapsed": false
   },
   "outputs": [],
   "source": [
    "y = pd.concat([co.pop('co'),co.pop('ethylene')],axis=1)\n",
    "x = co\n",
    "del co"
   ]
  },
  {
   "cell_type": "code",
   "execution_count": 21,
   "metadata": {
    "collapsed": false
   },
   "outputs": [],
   "source": [
    "# Standard scale the data\n",
    "# Deprecated\n",
    "# y = StandardScaler().fit_transform(y)\n",
    "# x = StandardScaler().fit_transform(x)"
   ]
  },
  {
   "cell_type": "code",
   "execution_count": 22,
   "metadata": {
    "collapsed": false
   },
   "outputs": [],
   "source": [
    "# MinMax Scale the data\n",
    "# Deprecated\n",
    "# x = ((x-x.min())/(x.max()-x.min()))\n",
    "# y = ((y-y.min())/(y.max()-y.min())).as_matrix()"
   ]
  },
  {
   "cell_type": "code",
   "execution_count": 77,
   "metadata": {
    "collapsed": false
   },
   "outputs": [],
   "source": [
    "# Generate list of unique pairs of gas concentrations, ie categories\n",
    "tuples = list(map(tuple, y.as_matrix()))\n",
    "seen = set()\n",
    "cats = [cat for cat in tuples if cat not in seen and not seen.add(cat)]"
   ]
  },
  {
   "cell_type": "code",
   "execution_count": 78,
   "metadata": {
    "collapsed": false
   },
   "outputs": [],
   "source": [
    "# Encode the data with numerical category values in place of gas concentration tuples\n",
    "y_enc = pd.DataFrame(np.array([cats.index(item) for item in tuples]).reshape(-1,1),columns=['y'])\n",
    "del tuples, seen, cats"
   ]
  },
  {
   "cell_type": "code",
   "execution_count": 79,
   "metadata": {
    "collapsed": false
   },
   "outputs": [],
   "source": [
    "y_limited = y_enc.loc[y_enc['y'].isin([3,4])]\n",
    "x_limited = x.loc[x.index.isin(y_limited.index)]"
   ]
  },
  {
   "cell_type": "code",
   "execution_count": 82,
   "metadata": {
    "collapsed": false
   },
   "outputs": [],
   "source": [
    "# One hot encode the data\n",
    "y_limited = OneHotEncoder(sparse=False).fit_transform(X=y_limited).astype('int8')\n",
    "#del y_enc"
   ]
  },
  {
   "cell_type": "code",
   "execution_count": 8,
   "metadata": {
    "collapsed": true
   },
   "outputs": [],
   "source": [
    "x = PolynomialFeatures(2).fit_transform(x)"
   ]
  },
  {
   "cell_type": "code",
   "execution_count": 101,
   "metadata": {
    "collapsed": false
   },
   "outputs": [
    {
     "ename": "AttributeError",
     "evalue": "'numpy.ndarray' object has no attribute 'as_matrix'",
     "output_type": "error",
     "traceback": [
      "\u001b[1;31m---------------------------------------------------------------------------\u001b[0m",
      "\u001b[1;31mAttributeError\u001b[0m                            Traceback (most recent call last)",
      "\u001b[1;32m<ipython-input-101-991248f6022f>\u001b[0m in \u001b[0;36m<module>\u001b[1;34m()\u001b[0m\n\u001b[0;32m      1\u001b[0m \u001b[1;31m# Convert pandas dataframes to numpy arrays\u001b[0m\u001b[1;33m\u001b[0m\u001b[1;33m\u001b[0m\u001b[0m\n\u001b[1;32m----> 2\u001b[1;33m \u001b[0mx_limited\u001b[0m \u001b[1;33m=\u001b[0m \u001b[0mx_limited\u001b[0m\u001b[1;33m.\u001b[0m\u001b[0mas_matrix\u001b[0m\u001b[1;33m(\u001b[0m\u001b[1;33m)\u001b[0m\u001b[1;33m\u001b[0m\u001b[0m\n\u001b[0m\u001b[0;32m      3\u001b[0m \u001b[1;31m#y_limited = y_limited.as_matrix()\u001b[0m\u001b[1;33m\u001b[0m\u001b[1;33m\u001b[0m\u001b[0m\n",
      "\u001b[1;31mAttributeError\u001b[0m: 'numpy.ndarray' object has no attribute 'as_matrix'"
     ]
    }
   ],
   "source": [
    "# Convert pandas dataframes to numpy arrays\n",
    "x_limited = x_limited.as_matrix()\n",
    "#y_limited = y_limited.as_matrix()"
   ]
  },
  {
   "cell_type": "code",
   "execution_count": 102,
   "metadata": {
    "collapsed": false
   },
   "outputs": [],
   "source": [
    "# Train test split the data\n",
    "x_all, xtest, y_all, ytest = train_test_split(x_limited, y_limited, test_size=1000, random_state=0)\n",
    "xtrain, xval, ytrain, yval = train_test_split(x_all, y_all, test_size=1000, random_state=0)"
   ]
  },
  {
   "cell_type": "code",
   "execution_count": 33,
   "metadata": {
    "collapsed": false
   },
   "outputs": [],
   "source": [
    "del y_one_hot,cats,y_enc,seen,tuples,x,y,data,co"
   ]
  },
  {
   "cell_type": "code",
   "execution_count": 103,
   "metadata": {
    "collapsed": false
   },
   "outputs": [],
   "source": [
    "# Pickle the data\n",
    "with open('./data/pickled/xtrain.pickle', 'wb') as f:\n",
    "    pickle.dump(xtrain, f, pickle.HIGHEST_PROTOCOL)\n",
    "    del xtrain"
   ]
  },
  {
   "cell_type": "code",
   "execution_count": 104,
   "metadata": {
    "collapsed": false
   },
   "outputs": [],
   "source": [
    "with open('./data/pickled/ytrain.pickle', 'wb') as f:\n",
    "    pickle.dump(ytrain, f, pickle.HIGHEST_PROTOCOL)\n",
    "    del ytrain"
   ]
  },
  {
   "cell_type": "code",
   "execution_count": 105,
   "metadata": {
    "collapsed": true
   },
   "outputs": [],
   "source": [
    "with open('./data/pickled/xtest.pickle', 'wb') as f:\n",
    "    pickle.dump(xtest, f, pickle.HIGHEST_PROTOCOL)\n",
    "    del xtest"
   ]
  },
  {
   "cell_type": "code",
   "execution_count": 106,
   "metadata": {
    "collapsed": true
   },
   "outputs": [],
   "source": [
    "with open('./data/pickled/ytest.pickle', 'wb') as f:\n",
    "    pickle.dump(ytest, f, pickle.HIGHEST_PROTOCOL)\n",
    "    del ytest"
   ]
  },
  {
   "cell_type": "code",
   "execution_count": 107,
   "metadata": {
    "collapsed": true
   },
   "outputs": [],
   "source": [
    "with open('./data/pickled/xval.pickle', 'wb') as f:\n",
    "    pickle.dump(xval, f, pickle.HIGHEST_PROTOCOL)\n",
    "    del xval"
   ]
  },
  {
   "cell_type": "code",
   "execution_count": 108,
   "metadata": {
    "collapsed": true
   },
   "outputs": [],
   "source": [
    "with open('./data/pickled/yval.pickle', 'wb') as f:\n",
    "    pickle.dump(yval, f, pickle.HIGHEST_PROTOCOL)\n",
    "    del yval"
   ]
  },
  {
   "cell_type": "code",
   "execution_count": 91,
   "metadata": {
    "collapsed": false
   },
   "outputs": [
    {
     "data": {
      "text/plain": [
       "array([[1, 0],\n",
       "       [1, 0],\n",
       "       [1, 0],\n",
       "       ..., \n",
       "       [0, 1],\n",
       "       [0, 1],\n",
       "       [0, 1]], dtype=int8)"
      ]
     },
     "execution_count": 91,
     "metadata": {},
     "output_type": "execute_result"
    }
   ],
   "source": []
  },
  {
   "cell_type": "code",
   "execution_count": null,
   "metadata": {
    "collapsed": true
   },
   "outputs": [],
   "source": []
  }
 ],
 "metadata": {
  "kernelspec": {
   "display_name": "Python 3",
   "language": "python",
   "name": "python3"
  },
  "language_info": {
   "codemirror_mode": {
    "name": "ipython",
    "version": 3
   },
   "file_extension": ".py",
   "mimetype": "text/x-python",
   "name": "python",
   "nbconvert_exporter": "python",
   "pygments_lexer": "ipython3",
   "version": "3.5.2"
  }
 },
 "nbformat": 4,
 "nbformat_minor": 0
}
